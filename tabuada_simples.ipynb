{
  "nbformat": 4,
  "nbformat_minor": 0,
  "metadata": {
    "colab": {
      "name": "tabuada_simples.ipynb",
      "provenance": [],
      "collapsed_sections": [],
      "authorship_tag": "ABX9TyMtJuFcZcMYdk24cfOTvme6"
    },
    "kernelspec": {
      "name": "python3",
      "display_name": "Python 3"
    }
  },
  "cells": [
    {
      "cell_type": "markdown",
      "metadata": {
        "id": "UJEoF3efHTQE"
      },
      "source": [
        "Programa: Tabuada Simples utilizando o FOR"
      ]
    },
    {
      "cell_type": "code",
      "metadata": {
        "colab": {
          "base_uri": "https://localhost:8080/"
        },
        "id": "M3ip0CrVHaWL",
        "outputId": "50f5c52f-97da-47ff-975a-b2041ca39a88"
      },
      "source": [
        "#python\r\n",
        "#tabuada_simples utilizando o FOR\r\n",
        "\r\n",
        "tabuada = int(input(\"Digite um número para exibir a tabuada: \\n\"))\r\n",
        "\r\n",
        "print(\"Tabuada do número: \", tabuada)\r\n",
        "\r\n",
        "for valor in range(1,11,1):\r\n",
        "  print(str(tabuada) + \" x \" + str(valor) + \" = \" + str(tabuada*valor))\r\n",
        "\r\n",
        "\r\n"
      ],
      "execution_count": 1,
      "outputs": [
        {
          "output_type": "stream",
          "text": [
            "Digite um número para exibir a tabuada: \n",
            "9\n",
            "Tabuada do número:  9\n",
            "9 x 1 = 9\n",
            "9 x 2 = 18\n",
            "9 x 3 = 27\n",
            "9 x 4 = 36\n",
            "9 x 5 = 45\n",
            "9 x 6 = 54\n",
            "9 x 7 = 63\n",
            "9 x 8 = 72\n",
            "9 x 9 = 81\n",
            "9 x 10 = 90\n"
          ],
          "name": "stdout"
        }
      ]
    }
  ]
}